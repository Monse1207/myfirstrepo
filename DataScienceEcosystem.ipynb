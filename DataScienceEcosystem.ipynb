{
 "cells": [
  {
   "cell_type": "markdown",
   "id": "766b4c00",
   "metadata": {},
   "source": [
    "# Data Science Tools and Ecosystem"
   ]
  },
  {
   "cell_type": "markdown",
   "id": "ca1b656a",
   "metadata": {},
   "source": [
    "In this notebook, Data Science Tools and Ecosystem are summarized"
   ]
  },
  {
   "cell_type": "markdown",
   "id": "88d69870",
   "metadata": {},
   "source": [
    "**Objectives:**\n",
    "\n",
    "    - List popular languages for Data Science\n",
    "    - List commonly used libraries for Data Science\n",
    "    - List open source developer environment tools used in Data Science\n",
    "    "
   ]
  },
  {
   "cell_type": "markdown",
   "id": "0480aaf8",
   "metadata": {},
   "source": [
    "Some of the popular languages that Data Scientists use are:\n",
    "\n",
    "    1. Python\n",
    "    2. R\n",
    "    3. Scala"
   ]
  },
  {
   "cell_type": "markdown",
   "id": "c1ea3b07",
   "metadata": {},
   "source": [
    "Some of the commonly used libraries used by Data Scientists include:\n",
    "    \n",
    "    1. Pandas\n",
    "    2. Matplotlib\n",
    "    3. Numpy\n",
    "    4. SciKit Learning\n",
    "    5. Tensorflow"
   ]
  },
  {
   "cell_type": "markdown",
   "id": "8db7d3a6",
   "metadata": {},
   "source": [
    "|**Data Science Tools**|\n",
    "------------------------\n",
    "| Jupyter notebooks    |\n",
    "| R Studio             |\n",
    "| Spyder               |"
   ]
  },
  {
   "cell_type": "markdown",
   "id": "383a89a0",
   "metadata": {},
   "source": [
    "### Below are a few examples of evaluating arithmetic expressions in Python"
   ]
  },
  {
   "cell_type": "code",
   "execution_count": 5,
   "id": "f897da4c",
   "metadata": {},
   "outputs": [
    {
     "data": {
      "text/plain": [
       "17"
      ]
     },
     "execution_count": 5,
     "metadata": {},
     "output_type": "execute_result"
    }
   ],
   "source": [
    "# This is a simple arithmetic expression to multiply then add integers\n",
    "(3*4)+5"
   ]
  },
  {
   "cell_type": "code",
   "execution_count": 7,
   "id": "5d562cab",
   "metadata": {},
   "outputs": [
    {
     "data": {
      "text/plain": [
       "3.3333333333333335"
      ]
     },
     "execution_count": 7,
     "metadata": {},
     "output_type": "execute_result"
    }
   ],
   "source": [
    "# This will convert 200 minutes to hours by diuving by 60\n",
    "200 / 60"
   ]
  },
  {
   "cell_type": "markdown",
   "id": "084b8caa",
   "metadata": {},
   "source": [
    "## Author \n",
    "Montserrat Camacho"
   ]
  },
  {
   "cell_type": "code",
   "execution_count": null,
   "id": "ff3e7e68",
   "metadata": {},
   "outputs": [],
   "source": []
  }
 ],
 "metadata": {
  "kernelspec": {
   "display_name": "Python 3 (ipykernel)",
   "language": "python",
   "name": "python3"
  },
  "language_info": {
   "codemirror_mode": {
    "name": "ipython",
    "version": 3
   },
   "file_extension": ".py",
   "mimetype": "text/x-python",
   "name": "python",
   "nbconvert_exporter": "python",
   "pygments_lexer": "ipython3",
   "version": "3.10.12"
  }
 },
 "nbformat": 4,
 "nbformat_minor": 5
}
